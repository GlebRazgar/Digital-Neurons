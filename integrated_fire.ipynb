{
 "cells": [
  {
   "cell_type": "markdown",
   "metadata": {},
   "source": [
    "# Integrate-and-fire models"
   ]
  },
  {
   "cell_type": "markdown",
   "metadata": {},
   "source": [
    "- Leaky integrated fire is a spike followed by a dygressing decay\n",
    "- A spike is a simple addition of voltage\n",
    "- The logarithmic decay is 1/e.\n",
    "\n",
    "lets derive it!!!\n",
    "We must model the neuron as a circuit.\n",
    "\n",
    "Cm - Membrane capacitance\n",
    "R - Resistance of the ion channels\n",
    "I - Current from outer neurons\n",
    "\n",
    "The equasion would look something like this V = Vi+Vaddition * 1/e^t\n",
    "τ dV/dt = -(V - Vrest) + RI(t)\n"
   ]
  },
  {
   "cell_type": "code",
   "execution_count": null,
   "metadata": {
    "vscode": {
     "languageId": "plaintext"
    }
   },
   "outputs": [],
   "source": []
  }
 ],
 "metadata": {
  "language_info": {
   "name": "python"
  }
 },
 "nbformat": 4,
 "nbformat_minor": 2
}
